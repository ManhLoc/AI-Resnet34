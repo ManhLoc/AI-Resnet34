{
  "nbformat": 4,
  "nbformat_minor": 0,
  "metadata": {
    "colab": {
      "provenance": [],
      "include_colab_link": true
    },
    "kernelspec": {
      "name": "python3",
      "display_name": "Python 3"
    },
    "language_info": {
      "name": "python"
    },
    "accelerator": "GPU",
    "gpuClass": "standard"
  },
  "cells": [
    {
      "cell_type": "markdown",
      "metadata": {
        "id": "view-in-github",
        "colab_type": "text"
      },
      "source": [
        "<a href=\"https://colab.research.google.com/github/ManhLoc/AI-Resnet34/blob/main/Untitled6.ipynb\" target=\"_parent\"><img src=\"https://colab.research.google.com/assets/colab-badge.svg\" alt=\"Open In Colab\"/></a>"
      ]
    },
    {
      "cell_type": "code",
      "execution_count": null,
      "metadata": {
        "colab": {
          "base_uri": "https://localhost:8080/"
        },
        "id": "z4eJrCAD0SFB",
        "outputId": "290cc142-3d01-4afe-cb5f-a35d4f82c155"
      },
      "outputs": [
        {
          "output_type": "stream",
          "name": "stdout",
          "text": [
            "Mounted at /content/drive\n"
          ]
        }
      ],
      "source": [
        "from google.colab import drive\n",
        "drive.mount('/content/drive')"
      ]
    },
    {
      "cell_type": "code",
      "source": [
        "\n",
        "from __future__ import print_function, division\n",
        "\n",
        "import torch\n",
        "import torch.nn as nn\n",
        "import torch.optim as optim\n",
        "from torch.optim import lr_scheduler\n",
        "import torch.backends.cudnn as cudnn\n",
        "import numpy as np\n",
        "import torchvision\n",
        "from torchvision import datasets, models, transforms\n",
        "import matplotlib.pyplot as plt\n",
        "import time\n",
        "import os\n",
        "import copy\n",
        "from torch.utils.data import Dataset\n",
        "from torchvision.transforms import ToTensor\n",
        "import csv\n",
        "import pandas as pd\n",
        "from torchvision.transforms import transforms\n",
        "from PIL import Image\n",
        "cudnn.benchmark = True\n",
        "import torchvision.models as models\n",
        "plt.ion()   # interactive mode"
      ],
      "metadata": {
        "colab": {
          "base_uri": "https://localhost:8080/"
        },
        "id": "r9BwGg0z0WVe",
        "outputId": "85d60af9-880d-48ea-9cdc-89250ecab501"
      },
      "execution_count": null,
      "outputs": [
        {
          "output_type": "execute_result",
          "data": {
            "text/plain": [
              "<contextlib.ExitStack at 0x7f3c2c57ea60>"
            ]
          },
          "metadata": {},
          "execution_count": 2
        }
      ]
    },
    {
      "cell_type": "code",
      "source": [
        "\n",
        "class CustomImageDataset(Dataset):\n",
        "    def __init__(self, annotations_file, img_dir, transform=None):\n",
        "        self.img_labels = pd.read_csv(annotations_file)\n",
        "        self.img_dir = img_dir\n",
        "        self.transform = transform\n",
        "\n",
        "    def __len__(self):\n",
        "        return len(self.img_labels)\n",
        "\n",
        "    def __getitem__(self, idx):\n",
        "        gt = self.img_labels.loc[idx, :].values.flatten().tolist()\n",
        "        img_path = os.path.join(self.img_dir, gt[0]) + '.jpg'\n",
        "\n",
        "        image = Image.open(img_path)\n",
        "\n",
        "        label = torch.tensor([np.argmax(gt[1:])])\n",
        "        if self.transform:\n",
        "            image = self.transform(image)\n",
        "        return image, label.item()\n",
        "\n",
        "from torch.utils.data import DataLoader\n",
        "transform = transforms.Compose(\n",
        "    [transforms.ToTensor(),\n",
        "     transforms.Normalize((0.5, 0.5, 0.5), (0.5, 0.5, 0.5)),\n",
        "     transforms.Resize(256)])\n",
        "\n",
        "train_dataset = CustomImageDataset(annotations_file=\"/content/drive/MyDrive/Colab Notebooks/ISIC2018_Task3_Training_GroundTruth/ISIC2018_Task3_Training_GroundTruth.csv\",\n",
        "                                   img_dir = \"/content/drive/MyDrive/Colab Notebooks/ISIC2018_Task3_Training_Input/ISIC2018_Task3_Training_Input\",\n",
        "                                   transform = transform)\n",
        "val_dataset = CustomImageDataset(annotations_file=\"/content/drive/MyDrive/Colab Notebooks/ISIC2018_Task3_Validation_GroundTruth/ISIC2018_Task3_Validation_GroundTruth.csv\",\n",
        "                                   img_dir = \"/content/drive/MyDrive/Colab Notebooks/ISIC2018_Task3_Validation_Input\",\n",
        "                                   transform = transform)\n",
        "\n",
        "train_dataloader = DataLoader(train_dataset, batch_size=64, shuffle=True)\n",
        "val_dataloader = DataLoader(val_dataset, batch_size=64, shuffle=False)\n"
      ],
      "metadata": {
        "id": "DDknXCGE0kmF"
      },
      "execution_count": null,
      "outputs": []
    },
    {
      "cell_type": "code",
      "source": [
        "# Load the pre-trained ResNet34 model\n",
        "model = models.resnet34(pretrained=True)\n",
        "\n",
        "# Freeze all the layers in the pre-trained model\n",
        "for param in model.parameters():\n",
        "    param.requires_grad = False\n",
        "\n",
        "# Replace the last fully connected layer with a new one that has 6 output features\n",
        "num_ftrs = model.fc.in_features\n",
        "model.fc = nn.Linear(num_ftrs, 7)\n",
        "\n",
        "# Define the loss function and optimizer\n",
        "criterion = nn.CrossEntropyLoss()\n",
        "optimizer = torch.optim.SGD(model.fc.parameters(), lr=0.001, momentum=0.9)\n",
        "\n",
        "# Move the model to the device (GPU or CPU)\n",
        "device = torch.device(\"cuda:0\" if torch.cuda.is_available() else \"cpu\")\n",
        "model.to(device)\n",
        "\n",
        "# Train the model\n",
        "num_epochs = 30\n",
        "for epoch in range(num_epochs):\n",
        "    # Training phase\n",
        "    model.train()\n",
        "    for images, labels in train_dataloader:\n",
        "        images, labels = images.to(device), labels.to(device)\n",
        "        optimizer.zero_grad()\n",
        "        outputs = model(images)\n",
        "        loss = criterion(outputs, labels)\n",
        "        loss.backward()\n",
        "        optimizer.step()\n",
        "\n",
        "    # Validation phase\n",
        "    model.eval()\n",
        "    with torch.no_grad():\n",
        "        total_correct = 0\n",
        "        total_samples = 0\n",
        "        for images, labels in val_dataloader:\n",
        "            images, labels = images.to(device), labels.to(device)\n",
        "            outputs = model(images)\n",
        "            _, predicted = torch.max(outputs.data, 1)\n",
        "            total_samples += labels.size(0)\n",
        "            total_correct += (predicted == labels).sum().item()\n",
        "        accuracy = total_correct / total_samples\n",
        "        print('Epoch [{}/{}], Accuracy: {:.2f}%'.format(epoch+1, num_epochs, accuracy*100))"
      ],
      "metadata": {
        "colab": {
          "base_uri": "https://localhost:8080/"
        },
        "id": "9SFLFMj357Ld",
        "outputId": "d1f441ad-92c2-463c-c29e-fb48015ae803"
      },
      "execution_count": null,
      "outputs": [
        {
          "output_type": "stream",
          "name": "stderr",
          "text": [
            "/usr/local/lib/python3.9/dist-packages/torchvision/models/_utils.py:208: UserWarning: The parameter 'pretrained' is deprecated since 0.13 and may be removed in the future, please use 'weights' instead.\n",
            "  warnings.warn(\n",
            "/usr/local/lib/python3.9/dist-packages/torchvision/models/_utils.py:223: UserWarning: Arguments other than a weight enum or `None` for 'weights' are deprecated since 0.13 and may be removed in the future. The current behavior is equivalent to passing `weights=ResNet34_Weights.IMAGENET1K_V1`. You can also use `weights=ResNet34_Weights.DEFAULT` to get the most up-to-date weights.\n",
            "  warnings.warn(msg)\n",
            "Downloading: \"https://download.pytorch.org/models/resnet34-b627a593.pth\" to /root/.cache/torch/hub/checkpoints/resnet34-b627a593.pth\n",
            "100%|██████████| 83.3M/83.3M [00:01<00:00, 57.7MB/s]\n"
          ]
        }
      ]
    },
    {
      "cell_type": "code",
      "source": [
        "# Path to the directory containing images to predict\n",
        "predict_dir = \"/content/drive/MyDrive/Colab Notebooks/Test/ISIC2018_Task3_Test_Input\"\n",
        "\n",
        "# Load the prediction data from the directory\n",
        "prediction_files = os.listdir(predict_dir)\n",
        "\n",
        "# Switch the model to evaluation mode\n",
        "model.eval()\n",
        "\n",
        "# Create a CSV file to write the prediction results\n",
        "csv_file_path = \"/content/drive/MyDrive/Colab Notebooks/Test/Test_CSV.CSV\"\n",
        "with open(csv_file_path, mode='w', newline='') as csv_file:\n",
        "    csv_writer = csv.writer(csv_file, delimiter=',', quotechar='\"', quoting=csv.QUOTE_MINIMAL)\n",
        "    csv_writer.writerow(['Filename', 'Predicted Class'])\n",
        "\n",
        "    # Define the prediction data (class names)\n",
        "    predict_data = {\n",
        "        'classes': ['MEL', 'NV', 'BCC', 'AKIEC','BKL','DF','VASC'] # List of class names\n",
        "    }\n",
        "\n",
        "    # Iterate through each image in the prediction dataset and predict the label\n",
        "    for filename in prediction_files:\n",
        "        # Load and preprocess the image\n",
        "        image_path = os.path.join(predict_dir, filename)\n",
        "        image = Image.open(image_path)\n",
        "        image = transforms.Compose([\n",
        "            transforms.Resize((224, 224)), # Resize to the same size as the input of the model\n",
        "            transforms.ToTensor() # Convert to a tensor\n",
        "            # Add any other necessary transforms\n",
        "        ])(image).unsqueeze(0)\n",
        "\n",
        "        # Move the image to the GPU if available\n",
        "        image = image.to(device)\n",
        "\n",
        "        # Compute the prediction result\n",
        "        with torch.no_grad():\n",
        "            outputs = model(image)\n",
        "            _, predicted = torch.max(outputs.data, 1)\n",
        "            predicted_class = predict_data['classes'][predicted.item()]\n",
        "\n",
        "        # Write the prediction result to the CSV file\n",
        "        csv_writer.writerow([filename, predicted_class])"
      ],
      "metadata": {
        "id": "VZXCJqHuwoQS"
      },
      "execution_count": null,
      "outputs": []
    },
    {
      "cell_type": "code",
      "source": [
        "# Path to the directory containing images to predict\n",
        "predict_dir = \"/content/drive/MyDrive/Colab Notebooks/Test/ISIC2018_Task3_Test_Input\"\n",
        "\n",
        "# Load the prediction data from the directory\n",
        "prediction_files = os.listdir(predict_dir)\n",
        "\n",
        "# Switch the model to evaluation mode\n",
        "model.eval()\n",
        "\n",
        "# Define the prediction data (class names)\n",
        "predict_data = {\n",
        "        'classes': ['MEL', 'NV', 'BCC', 'AKIEC','BKL','DF','VASC'] # List of class names\n",
        "    }\n",
        "# Define the prediction results array\n",
        "num_images = len(prediction_files)\n",
        "num_classes = len(predict_data['classes'])\n",
        "predictions = np.zeros((num_images, num_classes))\n",
        "\n",
        "# Iterate through each image in the prediction dataset and predict the label\n",
        "for i, filename in enumerate(prediction_files):\n",
        "    # Load and preprocess the image\n",
        "    image_path = os.path.join(predict_dir, filename)\n",
        "    image = Image.open(image_path)\n",
        "    image = transforms.Compose([\n",
        "        transforms.Resize((224, 224)), # Resize to the same size as the input of the model\n",
        "        transforms.ToTensor() # Convert to a tensor\n",
        "        # Add any other necessary transforms\n",
        "    ])(image).unsqueeze(0)\n",
        "\n",
        "    # Move the image to the GPU if available\n",
        "    image = image.to(device)\n",
        "\n",
        "    # Compute the prediction result\n",
        "    with torch.no_grad():\n",
        "        outputs = model(image)\n",
        "        _, predicted = torch.max(outputs.data, 1)\n",
        "        predicted_class = predicted.item()\n",
        "\n",
        "    # Update the prediction results array\n",
        "    predictions[i, predicted_class] = 1\n",
        "\n",
        "# Convert the prediction results array to a Pandas DataFrame\n",
        "df = pd.DataFrame(predictions, columns=predict_data['classes'])\n",
        "\n",
        "# Add the filename column to the DataFrame\n",
        "df.insert(0, 'Filename', prediction_files)\n",
        "\n",
        "# Save the DataFrame to a CSV file\n",
        "csv_file_path = \"/content/drive/MyDrive/Colab Notebooks/Test/Test_CSV.CSV\"\n",
        "df.to_csv(csv_file_path, index=False)"
      ],
      "metadata": {
        "id": "2wMUl_4061qn"
      },
      "execution_count": null,
      "outputs": []
    }
  ]
}